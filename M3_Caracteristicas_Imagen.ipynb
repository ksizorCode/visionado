{
  "nbformat": 4,
  "nbformat_minor": 0,
  "metadata": {
    "colab": {
      "provenance": [],
      "authorship_tag": "ABX9TyM+dtDjDVlI5Nc+mzTYJDhD",
      "include_colab_link": true
    },
    "kernelspec": {
      "name": "python3",
      "display_name": "Python 3"
    },
    "language_info": {
      "name": "python"
    }
  },
  "cells": [
    {
      "cell_type": "markdown",
      "metadata": {
        "id": "view-in-github",
        "colab_type": "text"
      },
      "source": [
        "<a href=\"https://colab.research.google.com/github/ksizorCode/visionado/blob/main/M3_Caracteristicas_Imagen.ipynb\" target=\"_parent\"><img src=\"https://colab.research.google.com/assets/colab-badge.svg\" alt=\"Open In Colab\"/></a>"
      ]
    },
    {
      "cell_type": "code",
      "execution_count": null,
      "metadata": {
        "id": "K1bgMUQevJEm"
      },
      "outputs": [],
      "source": [
        "import cv2\n",
        "import matplotlib.pyplot as plt\n",
        "import numpy as np\n",
        "\n",
        "# hola mundo\n",
        "# Cargar la imagen\n",
        "# Puedes reemplazar 'ruta/a/tu/imagen.jpg' con la ruta a tu propia imagen\n",
        "# Si no tienes una imagen, puedes descargar una de ejemplo o usar una de las que vienen con OpenCV\n",
        "try:\n",
        "    image = cv2.imread('messi5.jpg', cv2.IMREAD_GRAYSCALE) # Cargar en escala de grises para simplificar\n",
        "\n",
        "    if image is None:\n",
        "        # Si la imagen no se encuentra localmente, intentar descargar una de ejemplo\n",
        "        print(\"Imagen no encontrada localmente. Descargando una imagen de ejemplo...\")\n",
        "        import requests\n",
        "        image_url = \"https://upload.wikimedia.org/wikipedia/commons/b/b4/Lionel-Messi-Argentina-2022-FIFA-World-Cup_%28cropped%29.jpg\"\n",
        "        response = requests.get(image_url)\n",
        "        with open(\"messi5.jpg\", \"wb\") as f:\n",
        "            f.write(response.content)\n",
        "        image = cv2.imread('messi5.jpg', cv2.IMREAD_GRAYSCALE)\n",
        "        if image is None:\n",
        "            print(\"Error al descargar o cargar la imagen de ejemplo.\")\n",
        "            raise FileNotFoundError(\"No se pudo cargar la imagen.\")\n",
        "\n",
        "\n",
        "    # Aplicar detector de bordes Canny\n",
        "    canny_edges = cv2.Canny(image, 100, 200) # Los umbrales pueden ajustarse\n",
        "\n",
        "    # Aplicar detector de bordes Sobel en X y Y y combinarlos\n",
        "    sobelx = cv2.Sobel(image, cv2.CV_64F, 1, 0, ksize=5)\n",
        "    sobely = cv2.Sobel(image, cv2.CV_64F, 0, 1, ksize=5)\n",
        "    sobel_edges = np.sqrt(sobelx**2 + sobely**2)\n",
        "\n",
        "    # Aplicar detector de bordes Scharr en X y Y y combinarlos\n",
        "    scharrx = cv2.Scharr(image, cv2.CV_64F, 1, 0)\n",
        "    scharry = cv2.Scharr(image, cv2.CV_64F, 0, 1)\n",
        "    scharr_edges = np.sqrt(scharrx**2 + scharry**2)\n",
        "\n",
        "    # Aplicar detector de bordes Laplace\n",
        "    laplacian_edges = cv2.Laplacian(image, cv2.CV_64F)\n",
        "\n",
        "    # Mostrar los resultados\n",
        "    plt.figure(figsize=(12, 8))\n",
        "\n",
        "    plt.subplot(2, 3, 1), plt.imshow(image, cmap='gray')\n",
        "    plt.title('Imagen Original'), plt.xticks([]), plt.yticks([])\n",
        "\n",
        "    plt.subplot(2, 3, 2), plt.imshow(canny_edges, cmap='gray')\n",
        "    plt.title('Detector Canny'), plt.xticks([]), plt.yticks([])\n",
        "\n",
        "    plt.subplot(2, 3, 3), plt.imshow(sobel_edges, cmap='gray')\n",
        "    plt.title('Detector Sobel'), plt.xticks([]), plt.yticks([])\n",
        "\n",
        "    plt.subplot(2, 3, 4), plt.imshow(scharr_edges, cmap='gray')\n",
        "    plt.title('Detector Scharr'), plt.xticks([]), plt.yticks([])\n",
        "\n",
        "    plt.subplot(2, 3, 5), plt.imshow(laplacian_edges, cmap='gray')\n",
        "    plt.title('Detector Laplace'), plt.xticks([]), plt.yticks([])\n",
        "\n",
        "    plt.tight_layout()\n",
        "    plt.show()\n",
        "\n",
        "except FileNotFoundError as e:\n",
        "    print(f\"Error: {e}. Asegúrate de que la ruta de la imagen es correcta o que tienes conexión a internet para descargar la imagen de ejemplo.\")\n",
        "except Exception as e:\n",
        "    print(f\"Ocurrió un error: {e}\")"
      ]
    }
  ]
}